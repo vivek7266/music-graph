{
 "cells": [
  {
   "cell_type": "markdown",
   "metadata": {},
   "source": [
    "Let's first start spacy"
   ]
  },
  {
   "cell_type": "code",
   "execution_count": 165,
   "metadata": {},
   "outputs": [],
   "source": [
    "# import required modules\n",
    "import spacy\n",
    "import pandas as pd"
   ]
  },
  {
   "cell_type": "code",
   "execution_count": 166,
   "metadata": {},
   "outputs": [],
   "source": [
    "# Load english vocabulary\n",
    "nlp = spacy.load(\"en_core_web_sm\")"
   ]
  },
  {
   "cell_type": "code",
   "execution_count": 167,
   "metadata": {},
   "outputs": [
    {
     "name": "stdout",
     "output_type": "stream",
     "text": [
      "Barrack barrack PROPN NNP compound Xxxxx True False\n",
      "Obama obama PROPN NNP nsubj Xxxxx True False\n",
      "was be VERB VBD ROOT xxx True True\n",
      "the the DET DT det xxx True True\n",
      "President president PROPN NNP attr Xxxxx True False\n",
      "of of ADP IN prep xx True True\n",
      "United united PROPN NNP compound Xxxxx True False\n",
      "States states PROPN NNP pobj Xxxxx True False\n",
      "of of ADP IN prep xx True True\n",
      "America america PROPN NNP pobj Xxxxx True False\n",
      ". . PUNCT . punct . False False\n",
      "\n",
      "Barrack Obama 0 13 PERSON\n",
      "United States of America 35 59 GPE\n"
     ]
    }
   ],
   "source": [
    "# check a small sentence\n",
    "# check their tags\n",
    "# check their NER tags\n",
    "\n",
    "doc = nlp(u'Barrack Obama was the President of United States of America.')\n",
    "\n",
    "for token in doc:\n",
    "    print(token.text, token.lemma_, token.pos_, token.tag_, token.dep_, token.shape_, token.is_alpha, token.is_stop)\n",
    "print(\"\")\n",
    "for ent in doc.ents:\n",
    "    print(ent.text, ent.start_char, ent.end_char, ent.label_)"
   ]
  },
  {
   "cell_type": "markdown",
   "metadata": {},
   "source": [
    "One way to fetch data from Wikipedia is to get the daily dumps provide by WikiMedia. But that is too large and parsing it for specific data according to our data may be a tedious task. however, let's see if we can parse similar data using one of the smaller datasets for wikibooks from https://dumps.wikimedia.org/backup-index.htmlLet's create a script to parse data from enwikibooks dump."
   ]
  },
  {
   "cell_type": "code",
   "execution_count": 168,
   "metadata": {},
   "outputs": [],
   "source": [
    "# Data has already been extracted from xml dump using wikiextractor to these files on my local machine.\n",
    "# sample data is as show below\n",
    "# there is a doc block containing the content\n",
    "\"\"\"\n",
    "<doc id=\"5\" url=\"https://en.wikibooks.org/wiki?curid=5\" title=\"Organic Chemistry/Cover\">\n",
    "Organic Chemistry/Cover\n",
    "\n",
    "Welcome to the world's foremost open content<br>Organic Chemistry Textbook<br>on the web!\n",
    "\n",
    "Organic chemistry is primarily devoted to the unique properties of the carbon atom and its compounds. These compounds play a critical role in biology and ecology, Earth sciences and\n",
    " geology, physics, industry, medicine and — of course — chemistry. At first glance, the new material that organic chemistry brings to the table may seem complicated and daunting, bu\n",
    "t all it takes is concentration and perseverance. Millions of students before you have successfully passed this course and you can too!\n",
    "\n",
    "This field of chemistry is based less on formulas and more on reactions between various molecules under different conditions. Whereas a typical general chemistry question may ask a\n",
    "student to compute an answer with an equation from the chapter that they memorized, a more typical organic chemistry question is along the lines of \"what product will form when subs\n",
    "tance X is treated with solution Y and bombarded by light\". The key to learning organic chemistry is to \"understand\" it rather than cram it in the night before a test. It is all wel\n",
    "l and good to memorize the mechanism of Michael addition, but a superior accomplishment would be the ability to explain \"why\" such a reaction would take place.\n",
    "\n",
    "As in all things, it is easier to build up a body of new knowledge on a foundation of solid prior knowledge. Students will be well served by much of the knowledge brought to this su\n",
    "bject from the subject of General Chemistry. Concepts with particular importance to organic chemists are covalent bonding, Molecular Orbit theory, VSEPR Modeling, understanding acid\n",
    "/base chemistry vis-a-vis pKa values, and even trends of the periodic table. This is by no means a comprehensive list of the knowledge you should have gained already in order to ful\n",
    "ly understand the subject of organic chemistry, but it should give you some idea of the things you need to know to succeed in an organic chemistry test or course.\n",
    "\n",
    "Organic Chemistry is one of the subjects which are very useful and close to our daily life. We always try to figure out some of the unknown mysteries of our daily life through our f\n",
    "actious thinking habit, which generates superstitions. Through the help of chemistry we can help ourselves to get out of this kind of superstition.\n",
    "We always try to find the ultimate truth through our own convenience. In the ancient past we had struggled to make things to go as per our need. In that context we have found fire,\n",
    "house, food, transportation, etc…\n",
    "\n",
    "Now the burning question is: \"how can chemistry help our daily life?\" To find the answer of this questions, we have to know the subject thoroughly. Let us start it from now.\n",
    "\n",
    "\n",
    "</doc>\n",
    "\"\"\"\n",
    "fname = \"/Users/saurabh/workspace/datasets/wiki/AA/wiki_00\""
   ]
  },
  {
   "cell_type": "code",
   "execution_count": 72,
   "metadata": {},
   "outputs": [],
   "source": [
    "from nltk.tokenize import sent_tokenize, WordPunctTokenizer\n",
    "import uuid"
   ]
  },
  {
   "cell_type": "code",
   "execution_count": 136,
   "metadata": {},
   "outputs": [],
   "source": [
    "wtkz = WordPunctTokenizer()"
   ]
  },
  {
   "cell_type": "code",
   "execution_count": 74,
   "metadata": {},
   "outputs": [],
   "source": [
    "\"\"\"\n",
    "We assign each document with a unique page id.\n",
    "We assign every line in the document with unique id.\n",
    "\"\"\"\n",
    "def process_file(fname):\n",
    "    with open(fname) as f:\n",
    "        lines = f.readlines()\n",
    "    data = {}\n",
    "    curr = False\n",
    "    curr_data = []\n",
    "    for line in lines:\n",
    "        if line.startswith('</doc'):\n",
    "            if len(curr_data) >= 1:\n",
    "                data[doc_id] = curr_data\n",
    "            curr = False\n",
    "        if curr:\n",
    "            if len(line) > 20:\n",
    "                curr_data.append((doc_id, uuid.uuid4(), line.strip()))\n",
    "        if line.startswith('<doc'):\n",
    "            doc_id = line.split('<doc id=\"')[1].split('\"')[0]\n",
    "            curr = True\n",
    "    return curr_data"
   ]
  },
  {
   "cell_type": "code",
   "execution_count": 75,
   "metadata": {},
   "outputs": [
    {
     "name": "stdout",
     "output_type": "stream",
     "text": [
      "('5', UUID('51de6ee3-9c01-4290-9e16-73e8fb145918'), 'Organic Chemistry/Cover')\n"
     ]
    }
   ],
   "source": [
    "data = process_file(fname)\n",
    "print(data[0])\n",
    "raw_df = pd.DataFrame(data, columns=[\"ids\", \"txt_id\", \"text\"])"
   ]
  },
  {
   "cell_type": "code",
   "execution_count": 76,
   "metadata": {},
   "outputs": [
    {
     "data": {
      "text/html": [
       "<div>\n",
       "<style scoped>\n",
       "    .dataframe tbody tr th:only-of-type {\n",
       "        vertical-align: middle;\n",
       "    }\n",
       "\n",
       "    .dataframe tbody tr th {\n",
       "        vertical-align: top;\n",
       "    }\n",
       "\n",
       "    .dataframe thead th {\n",
       "        text-align: right;\n",
       "    }\n",
       "</style>\n",
       "<table border=\"1\" class=\"dataframe\">\n",
       "  <thead>\n",
       "    <tr style=\"text-align: right;\">\n",
       "      <th></th>\n",
       "      <th>ids</th>\n",
       "      <th>txt_id</th>\n",
       "      <th>text</th>\n",
       "    </tr>\n",
       "  </thead>\n",
       "  <tbody>\n",
       "    <tr>\n",
       "      <th>0</th>\n",
       "      <td>5</td>\n",
       "      <td>51de6ee3-9c01-4290-9e16-73e8fb145918</td>\n",
       "      <td>Organic Chemistry/Cover</td>\n",
       "    </tr>\n",
       "    <tr>\n",
       "      <th>1</th>\n",
       "      <td>5</td>\n",
       "      <td>66ed753a-5612-40da-915c-e51948f658d1</td>\n",
       "      <td>Welcome to the world's foremost open content&lt;b...</td>\n",
       "    </tr>\n",
       "    <tr>\n",
       "      <th>2</th>\n",
       "      <td>5</td>\n",
       "      <td>b5364df9-b4cf-4585-a1aa-2e80f9a112b1</td>\n",
       "      <td>Organic chemistry is primarily devoted to the ...</td>\n",
       "    </tr>\n",
       "    <tr>\n",
       "      <th>3</th>\n",
       "      <td>5</td>\n",
       "      <td>6e5e4e5b-a586-4829-b97c-71df9aef77b1</td>\n",
       "      <td>This field of chemistry is based less on formu...</td>\n",
       "    </tr>\n",
       "    <tr>\n",
       "      <th>4</th>\n",
       "      <td>5</td>\n",
       "      <td>f8966f48-11cc-46b5-a8a8-27fbcab2f62c</td>\n",
       "      <td>As in all things, it is easier to build up a b...</td>\n",
       "    </tr>\n",
       "  </tbody>\n",
       "</table>\n",
       "</div>"
      ],
      "text/plain": [
       "  ids                                txt_id  \\\n",
       "0   5  51de6ee3-9c01-4290-9e16-73e8fb145918   \n",
       "1   5  66ed753a-5612-40da-915c-e51948f658d1   \n",
       "2   5  b5364df9-b4cf-4585-a1aa-2e80f9a112b1   \n",
       "3   5  6e5e4e5b-a586-4829-b97c-71df9aef77b1   \n",
       "4   5  f8966f48-11cc-46b5-a8a8-27fbcab2f62c   \n",
       "\n",
       "                                                text  \n",
       "0                            Organic Chemistry/Cover  \n",
       "1  Welcome to the world's foremost open content<b...  \n",
       "2  Organic chemistry is primarily devoted to the ...  \n",
       "3  This field of chemistry is based less on formu...  \n",
       "4  As in all things, it is easier to build up a b...  "
      ]
     },
     "execution_count": 76,
     "metadata": {},
     "output_type": "execute_result"
    }
   ],
   "source": [
    "raw_df.head()"
   ]
  },
  {
   "cell_type": "code",
   "execution_count": 77,
   "metadata": {},
   "outputs": [
    {
     "name": "stdout",
     "output_type": "stream",
     "text": [
      "4542\n"
     ]
    }
   ],
   "source": [
    "print(raw_df[\"ids\"].count())"
   ]
  },
  {
   "cell_type": "code",
   "execution_count": 78,
   "metadata": {},
   "outputs": [],
   "source": [
    "# Apply spacy.nlp to all the documents. After this we will extract Name Entities dfrom the \n",
    "raw_df[\"nlp_txt\"] = raw_df[\"text\"].apply(nlp)"
   ]
  },
  {
   "cell_type": "code",
   "execution_count": 79,
   "metadata": {},
   "outputs": [
    {
     "data": {
      "text/html": [
       "<div>\n",
       "<style scoped>\n",
       "    .dataframe tbody tr th:only-of-type {\n",
       "        vertical-align: middle;\n",
       "    }\n",
       "\n",
       "    .dataframe tbody tr th {\n",
       "        vertical-align: top;\n",
       "    }\n",
       "\n",
       "    .dataframe thead th {\n",
       "        text-align: right;\n",
       "    }\n",
       "</style>\n",
       "<table border=\"1\" class=\"dataframe\">\n",
       "  <thead>\n",
       "    <tr style=\"text-align: right;\">\n",
       "      <th></th>\n",
       "      <th>ids</th>\n",
       "      <th>txt_id</th>\n",
       "      <th>text</th>\n",
       "      <th>nlp_txt</th>\n",
       "    </tr>\n",
       "  </thead>\n",
       "  <tbody>\n",
       "    <tr>\n",
       "      <th>0</th>\n",
       "      <td>5</td>\n",
       "      <td>51de6ee3-9c01-4290-9e16-73e8fb145918</td>\n",
       "      <td>Organic Chemistry/Cover</td>\n",
       "      <td>(Organic, Chemistry, /, Cover)</td>\n",
       "    </tr>\n",
       "    <tr>\n",
       "      <th>1</th>\n",
       "      <td>5</td>\n",
       "      <td>66ed753a-5612-40da-915c-e51948f658d1</td>\n",
       "      <td>Welcome to the world's foremost open content&lt;b...</td>\n",
       "      <td>(Welcome, to, the, world, 's, foremost, open, ...</td>\n",
       "    </tr>\n",
       "    <tr>\n",
       "      <th>2</th>\n",
       "      <td>5</td>\n",
       "      <td>b5364df9-b4cf-4585-a1aa-2e80f9a112b1</td>\n",
       "      <td>Organic chemistry is primarily devoted to the ...</td>\n",
       "      <td>(Organic, chemistry, is, primarily, devoted, t...</td>\n",
       "    </tr>\n",
       "    <tr>\n",
       "      <th>3</th>\n",
       "      <td>5</td>\n",
       "      <td>6e5e4e5b-a586-4829-b97c-71df9aef77b1</td>\n",
       "      <td>This field of chemistry is based less on formu...</td>\n",
       "      <td>(This, field, of, chemistry, is, based, less, ...</td>\n",
       "    </tr>\n",
       "    <tr>\n",
       "      <th>4</th>\n",
       "      <td>5</td>\n",
       "      <td>f8966f48-11cc-46b5-a8a8-27fbcab2f62c</td>\n",
       "      <td>As in all things, it is easier to build up a b...</td>\n",
       "      <td>(As, in, all, things, ,, it, is, easier, to, b...</td>\n",
       "    </tr>\n",
       "  </tbody>\n",
       "</table>\n",
       "</div>"
      ],
      "text/plain": [
       "  ids                                txt_id  \\\n",
       "0   5  51de6ee3-9c01-4290-9e16-73e8fb145918   \n",
       "1   5  66ed753a-5612-40da-915c-e51948f658d1   \n",
       "2   5  b5364df9-b4cf-4585-a1aa-2e80f9a112b1   \n",
       "3   5  6e5e4e5b-a586-4829-b97c-71df9aef77b1   \n",
       "4   5  f8966f48-11cc-46b5-a8a8-27fbcab2f62c   \n",
       "\n",
       "                                                text  \\\n",
       "0                            Organic Chemistry/Cover   \n",
       "1  Welcome to the world's foremost open content<b...   \n",
       "2  Organic chemistry is primarily devoted to the ...   \n",
       "3  This field of chemistry is based less on formu...   \n",
       "4  As in all things, it is easier to build up a b...   \n",
       "\n",
       "                                             nlp_txt  \n",
       "0                     (Organic, Chemistry, /, Cover)  \n",
       "1  (Welcome, to, the, world, 's, foremost, open, ...  \n",
       "2  (Organic, chemistry, is, primarily, devoted, t...  \n",
       "3  (This, field, of, chemistry, is, based, less, ...  \n",
       "4  (As, in, all, things, ,, it, is, easier, to, b...  "
      ]
     },
     "execution_count": 79,
     "metadata": {},
     "output_type": "execute_result"
    }
   ],
   "source": [
    "raw_df.head()"
   ]
  },
  {
   "cell_type": "code",
   "execution_count": 169,
   "metadata": {},
   "outputs": [],
   "source": [
    "# get named entities\n",
    "def get_ners(doc):\n",
    "    val = []\n",
    "    for ent in doc.ents:\n",
    "#         return ent.text, ent.start_char, ent.end_char, ent.label_\n",
    "        val.append((ent.text, ent.label_))\n",
    "    return val"
   ]
  },
  {
   "cell_type": "code",
   "execution_count": 81,
   "metadata": {},
   "outputs": [],
   "source": [
    "data_new = raw_df[\"nlp_txt\"].apply(get_ners)"
   ]
  },
  {
   "cell_type": "code",
   "execution_count": 91,
   "metadata": {},
   "outputs": [
    {
     "data": {
      "text/plain": [
       "[('General Chemistry', 'ORG'),\n",
       " ('Concepts', 'PERSON'),\n",
       " ('Molecular Orbit', 'PRODUCT'),\n",
       " ('Modeling', 'GPE')]"
      ]
     },
     "execution_count": 91,
     "metadata": {},
     "output_type": "execute_result"
    }
   ],
   "source": [
    "data_new.loc[4]"
   ]
  },
  {
   "cell_type": "code",
   "execution_count": 170,
   "metadata": {},
   "outputs": [
    {
     "data": {
      "text/plain": [
       "'Organic chemistry is primarily devoted to the unique properties of the carbon atom and its compounds. These compounds play a critical role in biology and ecology, Earth sciences and geology, physics, industry, medicine and — of course — chemistry. At first glance, the new material that organic chemistry brings to the table may seem complicated and daunting, but all it takes is concentration and perseverance. Millions of students before you have successfully passed this course and you can too!'"
      ]
     },
     "execution_count": 170,
     "metadata": {},
     "output_type": "execute_result"
    }
   ],
   "source": [
    "raw_df.loc[2, [\"text\"]][0]"
   ]
  },
  {
   "cell_type": "markdown",
   "metadata": {},
   "source": [
    "We can run NERs on these dumps from wikipedia. However, let's try capturing our own custom data. We will now try to train NER. But before that we require annotated data. We will create data basis the following algorithm."
   ]
  },
  {
   "cell_type": "markdown",
   "metadata": {},
   "source": [
    "This script is a starter for Named Entity Recognition for Wikipedia data.\n",
    "We have to do the following tasks in sequence:\n",
    "1. Extract data from Wikipedia<br />\n",
    "2. Annotate the data corresponding to an algorithm. Current algorithm employed<br />\n",
    "    2.1 Start with seed_words. call `wikipedia.page(seed_word)`<br />\n",
    "    2.2 For every page, take the title and the first line. Since, seed are musical words, if title is present in first line of the page. We mark it as MUSIC token.<br />\n",
    "    2.3 Navigate to the first 5 links, most probably they are also music words. So, fetch first link, and again do 2.2.<br />\n",
    "    2.4 Go to specified depth.<br />"
   ]
  },
  {
   "cell_type": "code",
   "execution_count": 92,
   "metadata": {},
   "outputs": [],
   "source": [
    "import wikipedia"
   ]
  },
  {
   "cell_type": "code",
   "execution_count": 130,
   "metadata": {},
   "outputs": [],
   "source": [
    "seed_words = [\"musical instruments\"]"
   ]
  },
  {
   "cell_type": "code",
   "execution_count": 131,
   "metadata": {},
   "outputs": [],
   "source": [
    "def fetch_page_data(wiki_page, indent=0):\n",
    "    data_map = {}\n",
    "    print('\\t'*indent ,wiki_page.title)\n",
    "#     print('\\t' ,wiki_page.content.split('.')[0])\n",
    "#     print('\\t' ,wiki_page.links[:4])\n",
    "    data_map[\"title\"] = wiki_page.title\n",
    "    data_map[\"line1\"] = wiki_page.content.split('.')[0]\n",
    "    return data_map"
   ]
  },
  {
   "cell_type": "code",
   "execution_count": 132,
   "metadata": {},
   "outputs": [],
   "source": [
    "def fetch_music_data(seed, data):\n",
    "    if depth == 1:\n",
    "        return\n",
    "    search_pages = wikipedia.search(seed)\n",
    "    print(sw)\n",
    "    for sp in search_pages:\n",
    "        wiki_page = wikipedia.page(sp)\n",
    "        data.append(fetch_page_data(wiki_page))\n",
    "        for wpl in wiki_page.links[:3]:\n",
    "            lwpage = wikipedia.page(wpl)\n",
    "            data.append(fetch_page_data(lwpage, 1))\n",
    "    return data"
   ]
  },
  {
   "cell_type": "code",
   "execution_count": 133,
   "metadata": {},
   "outputs": [
    {
     "name": "stdout",
     "output_type": "stream",
     "text": [
      "musical instruments\n",
      " Musical instrument\n",
      "\t 20th-century music\n",
      "\t 21st-century classical music\n",
      "\t A-side and B-side\n",
      " List of musical instruments\n",
      "\t 20th-century music\n",
      "\t 21st-century classical music\n",
      "\t A-side and B-side\n",
      " Fender Musical Instruments Corporation\n",
      "\t Acoustic guitar\n",
      "\t Adrian Belew\n",
      "\t Amplifier\n",
      " Musical instrument classification\n",
      "\t Accordion\n",
      "\t Acoustic guitar\n",
      "\t Adungu\n",
      " List of Indian musical instruments\n",
      "\t Adana (raga)\n",
      "\t Aerophone\n",
      "\t Aerophone\n",
      " G&L Musical Instruments\n",
      "\t Aerosmith\n",
      "\t Alnico\n",
      "\t Bass guitar\n",
      " Electronic musical instrument\n",
      "\t ANS synthesizer\n",
      "\t ARP Instruments\n",
      "\t ARP Odyssey\n",
      " List of Chinese musical instruments\n",
      "\t Alligator drum\n",
      "\t List of Chinese musical instruments\n",
      "\t Bamboo\n",
      " String instrument\n",
      "\t 3rd bridge\n",
      "\t Accompaniment\n",
      "\t Accordion\n",
      " Triangle (musical instrument)\n",
      "\t Envelope (music)\n",
      "\t Accordion\n",
      "\t Acme siren\n"
     ]
    }
   ],
   "source": [
    "data = []\n",
    "for seed in seed_words:\n",
    "    data = fetch_music_data(seed, data)"
   ]
  },
  {
   "cell_type": "code",
   "execution_count": 135,
   "metadata": {},
   "outputs": [
    {
     "data": {
      "text/html": [
       "<div>\n",
       "<style scoped>\n",
       "    .dataframe tbody tr th:only-of-type {\n",
       "        vertical-align: middle;\n",
       "    }\n",
       "\n",
       "    .dataframe tbody tr th {\n",
       "        vertical-align: top;\n",
       "    }\n",
       "\n",
       "    .dataframe thead th {\n",
       "        text-align: right;\n",
       "    }\n",
       "</style>\n",
       "<table border=\"1\" class=\"dataframe\">\n",
       "  <thead>\n",
       "    <tr style=\"text-align: right;\">\n",
       "      <th></th>\n",
       "      <th>line1</th>\n",
       "      <th>title</th>\n",
       "    </tr>\n",
       "  </thead>\n",
       "  <tbody>\n",
       "    <tr>\n",
       "      <th>0</th>\n",
       "      <td>A musical instrument is an instrument created ...</td>\n",
       "      <td>Musical instrument</td>\n",
       "    </tr>\n",
       "    <tr>\n",
       "      <th>1</th>\n",
       "      <td>During the 20th century there was a huge incre...</td>\n",
       "      <td>20th-century music</td>\n",
       "    </tr>\n",
       "    <tr>\n",
       "      <th>2</th>\n",
       "      <td>21st-century classical music is art music, in ...</td>\n",
       "      <td>21st-century classical music</td>\n",
       "    </tr>\n",
       "    <tr>\n",
       "      <th>3</th>\n",
       "      <td>The terms A-side and B-side refer to the two s...</td>\n",
       "      <td>A-side and B-side</td>\n",
       "    </tr>\n",
       "    <tr>\n",
       "      <th>4</th>\n",
       "      <td>This is a list of musical instruments</td>\n",
       "      <td>List of musical instruments</td>\n",
       "    </tr>\n",
       "  </tbody>\n",
       "</table>\n",
       "</div>"
      ],
      "text/plain": [
       "                                               line1  \\\n",
       "0  A musical instrument is an instrument created ...   \n",
       "1  During the 20th century there was a huge incre...   \n",
       "2  21st-century classical music is art music, in ...   \n",
       "3  The terms A-side and B-side refer to the two s...   \n",
       "4              This is a list of musical instruments   \n",
       "\n",
       "                          title  \n",
       "0            Musical instrument  \n",
       "1            20th-century music  \n",
       "2  21st-century classical music  \n",
       "3             A-side and B-side  \n",
       "4   List of musical instruments  "
      ]
     },
     "execution_count": 135,
     "metadata": {},
     "output_type": "execute_result"
    }
   ],
   "source": [
    "music_df = pd.DataFrame(data)\n",
    "music_df.head()"
   ]
  },
  {
   "cell_type": "code",
   "execution_count": 148,
   "metadata": {},
   "outputs": [],
   "source": [
    "def append_to_data(text, ret_data):\n",
    "    tkns = wtkz.tokenize(text)\n",
    "    for tkn in tkns:\n",
    "        ret_data.append((tkn, 'O'))\n",
    "    return ret_data\n",
    "\n",
    "def split_and_mark(row):\n",
    "    ret_data = []\n",
    "    line1, title = row\n",
    "    lline1 = line1.lower()\n",
    "    ltitle = title.lower()\n",
    "    idx = line1.lower().find(title.lower())\n",
    "    if idx == -1:\n",
    "        ret_data = append_to_data(line1, ret_data)\n",
    "    else:\n",
    "        end_idx = idx+len(title)\n",
    "        sd = line1[:idx]\n",
    "        ret_data = append_to_data(sd, ret_data)\n",
    "        ret_data.append((line1[idx:end_idx], 'MUSIC'))\n",
    "        sd = line1[end_idx:]\n",
    "        ret_data = append_to_data(sd, ret_data)\n",
    "    return ret_data"
   ]
  },
  {
   "cell_type": "code",
   "execution_count": 157,
   "metadata": {},
   "outputs": [
    {
     "data": {
      "text/plain": [
       "0    [(A, O), (musical instrument, MUSIC), (is, O),...\n",
       "1    [(During, O), (the, O), (20th, O), (century, O...\n",
       "2    [(21st-century classical music, MUSIC), (is, O...\n",
       "3    [(The, O), (terms, O), (A-side and B-side, MUS...\n",
       "4    [(This, O), (is, O), (a, O), (list of musical ...\n",
       "dtype: object"
      ]
     },
     "execution_count": 157,
     "metadata": {},
     "output_type": "execute_result"
    }
   ],
   "source": [
    "marked_data = music_df.apply(split_and_mark, axis=1)\n",
    "marked_data.head(5)"
   ]
  },
  {
   "cell_type": "code",
   "execution_count": 162,
   "metadata": {},
   "outputs": [],
   "source": [
    "write_data = ''\n",
    "for dlist in marked_data:\n",
    "    for dtup in dlist:\n",
    "        write_data += dtup[0] + '\\t' + dtup[1] + '\\n'\n",
    "    write_data += '\\n'"
   ]
  },
  {
   "cell_type": "code",
   "execution_count": 164,
   "metadata": {},
   "outputs": [],
   "source": [
    "with open(\"output.txt\", \"w\") as f:\n",
    "    f.write(write_data)"
   ]
  },
  {
   "cell_type": "code",
   "execution_count": 173,
   "metadata": {},
   "outputs": [
    {
     "data": {
      "text/plain": [
       "''"
      ]
     },
     "execution_count": 173,
     "metadata": {},
     "output_type": "execute_result"
    }
   ],
   "source": [
    "# sample data from output.txt\n",
    "\"\"\"\n",
    "The     O\n",
    "ANS synthesizer MUSIC\n",
    "is      O\n",
    "a       O\n",
    "photoelectronic O\n",
    "musical O\n",
    "instrument      O\n",
    "created O\n",
    "by      O\n",
    "Russian O\n",
    "engineer        O\n",
    "Evgeny  O\n",
    "Murzin  O\n",
    "from    O\n",
    "1937    O\n",
    "to      O\n",
    "1957    O\n",
    "\n",
    "ARP Instruments MUSIC\n",
    ",       O\n",
    "Inc     O\n",
    "\n",
    "The     O\n",
    "ARP Odyssey     MUSIC\n",
    "is      O\n",
    "an      O\n",
    "analog  O\n",
    "synthesizer     O\n",
    "introduced      O\n",
    "in      O\n",
    "1972    O\n",
    "\"\"\"\n",
    "\n",
    "\"\""
   ]
  },
  {
   "cell_type": "code",
   "execution_count": null,
   "metadata": {},
   "outputs": [],
   "source": []
  }
 ],
 "metadata": {
  "kernelspec": {
   "display_name": "Python 3",
   "language": "python",
   "name": "python3"
  },
  "language_info": {
   "codemirror_mode": {
    "name": "ipython",
    "version": 3
   },
   "file_extension": ".py",
   "mimetype": "text/x-python",
   "name": "python",
   "nbconvert_exporter": "python",
   "pygments_lexer": "ipython3",
   "version": "3.6.5"
  }
 },
 "nbformat": 4,
 "nbformat_minor": 2
}
